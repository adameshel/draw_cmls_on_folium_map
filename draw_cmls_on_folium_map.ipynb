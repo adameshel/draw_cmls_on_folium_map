{
 "cells": [
  {
   "cell_type": "code",
   "execution_count": 1,
   "metadata": {},
   "outputs": [],
   "source": [
    "from draw_cml_map import *"
   ]
  },
  {
   "cell_type": "code",
   "execution_count": null,
   "metadata": {},
   "outputs": [],
   "source": []
  },
  {
   "cell_type": "markdown",
   "metadata": {},
   "source": [
    "### Example"
   ]
  },
  {
   "cell_type": "code",
   "execution_count": 11,
   "metadata": {},
   "outputs": [],
   "source": [
    "name_map = 'cellcom_pelephone_15min_jan_2020.html'\n",
    "h = draw_cml_map(out_path='/Users/adameshel/Documents/Python_scripts/I_Change/15 min try/',\n",
    "            data_path='/Users/adameshel/Documents/Python_scripts/I_Change/15 min try/',\n",
    "            metadata_file_name='cellcom_jan_2020.csv',\n",
    "            area_min_lon=35.0,\n",
    "            area_max_lon=36.0,\n",
    "            area_min_lat=31.5,\n",
    "            area_max_lat=32.1,\n",
    "            list_of_link_id_to_drop=['4673-7HZ4','7HZ4-4673'],\n",
    "            gridlines_on=False,\n",
    "            name_of_map_file=name_map)"
   ]
  },
  {
   "cell_type": "markdown",
   "metadata": {},
   "source": [
    "### Draw on same map additional CMLs in different colors and discard the grid"
   ]
  },
  {
   "cell_type": "code",
   "execution_count": 12,
   "metadata": {},
   "outputs": [],
   "source": [
    "h1 = draw_cml_map(out_path='/Users/adameshel/Documents/Python_scripts/I_Change/15 min try/',\n",
    "            data_path='/Users/adameshel/Documents/Python_scripts/I_Change/15 min try/',\n",
    "            metadata_file_name='pelephone jan 2 2020.csv',\n",
    "            handle=h,\n",
    "            area_min_lon=35.0,\n",
    "            area_max_lon=36.0,\n",
    "            area_min_lat=31.5,\n",
    "            area_max_lat=32.1,\n",
    "            color_of_links='blue',\n",
    "            gridlines_on=True,\n",
    "            name_of_map_file=name_map)"
   ]
  },
  {
   "cell_type": "code",
   "execution_count": null,
   "metadata": {},
   "outputs": [],
   "source": []
  }
 ],
 "metadata": {
  "kernelspec": {
   "display_name": "Python 3",
   "language": "python",
   "name": "python3"
  },
  "language_info": {
   "codemirror_mode": {
    "name": "ipython",
    "version": 3
   },
   "file_extension": ".py",
   "mimetype": "text/x-python",
   "name": "python",
   "nbconvert_exporter": "python",
   "pygments_lexer": "ipython3",
   "version": "3.7.11"
  }
 },
 "nbformat": 4,
 "nbformat_minor": 4
}
