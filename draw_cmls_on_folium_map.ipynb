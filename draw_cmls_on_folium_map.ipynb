{
 "cells": [
  {
   "cell_type": "code",
   "execution_count": null,
   "metadata": {},
   "outputs": [],
   "source": [
    "import pandas as pd\n",
    "import folium\n",
    "import numpy as np\n",
    "import math\n",
    "from pathlib import Path\n",
    "out_path = Path('/Path/To/Out/')\n",
    "data_path = Path('/Path/To/Metadata/')\n",
    "meta_path = data_path.joinpath('export.csv')\n",
    "df_md = pd.read_csv(meta_path)\n",
    "df_md.drop_duplicates(subset='Link ID', inplace=True)\n",
    "df_md.reset_index(inplace=True,drop=True)\n",
    "\n",
    "grid = []\n",
    "num_of_gridlines = 50\n",
    "\n",
    "map_1 = folium.Map(location=[32, 35],\n",
    "                       zoom_start=8,\n",
    "                       tiles='Stamen Terrain',\n",
    "                  control_scale=True)\n",
    "for i,link in df_md.iterrows():\n",
    "    if math.isnan(link['Rx Site Latitude']):\n",
    "        print('No metadata for link ' + str(link['Link ID']))\n",
    "        continue\n",
    "    else:\n",
    "        folium.PolyLine([(link['Rx Site Latitude'], \n",
    "                          link['Rx Site Longitude']),\n",
    "                         (link['Tx Site Latitude'], \n",
    "                          link['Tx Site Longitude'])], \n",
    "                        color=\"purple\", opacity=0.7, popup=str(link['Link ID'])).add_to(map_1)\n",
    "        \n",
    "# plot gridlines\n",
    "lat_min = np.nanmin((np.nanmin(df_md['Tx Site Latitude'].values),\n",
    "                    np.nanmin(df_md['Rx Site Latitude'].values)))\n",
    "lon_min = np.nanmin((np.nanmin(df_md['Tx Site Longitude'].values),\n",
    "                    np.nanmin(df_md['Rx Site Longitude'].values)))\n",
    "lat_max = np.nanmax((np.nanmax(df_md['Tx Site Latitude'].values),\n",
    "                    np.nanmax(df_md['Rx Site Latitude'].values)))\n",
    "lon_max = np.nanmax((np.nanmax(df_md['Tx Site Longitude'].values),\n",
    "                    np.nanmax(df_md['Rx Site Longitude'].values)))\n",
    "\n",
    "lats = np.linspace(lat_min,lat_max,num_of_gridlines)\n",
    "lons = np.linspace(lon_min,lon_max,num_of_gridlines)\n",
    "\n",
    "for lat in lats:\n",
    "    grid.append([[lat, -180],[lat, 180]])\n",
    "\n",
    "for lon in lons:\n",
    "    grid.append([[-90, lon],[90, lon]])\n",
    "\n",
    "for g in grid:\n",
    "    folium.PolyLine(g, color=\"black\", weight=0.5, opacity=0.5,popup=str(g)).add_to(map_1)\n",
    "        \n",
    "map_1.save(str(out_path.joinpath('link_map.html')))"
   ]
  }
 ],
 "metadata": {
  "kernelspec": {
   "display_name": "Python 3",
   "language": "python",
   "name": "python3"
  },
  "language_info": {
   "codemirror_mode": {
    "name": "ipython",
    "version": 3
   },
   "file_extension": ".py",
   "mimetype": "text/x-python",
   "name": "python",
   "nbconvert_exporter": "python",
   "pygments_lexer": "ipython3",
   "version": "3.7.11"
  }
 },
 "nbformat": 4,
 "nbformat_minor": 4
}
