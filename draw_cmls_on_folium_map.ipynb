{
 "cells": [
  {
   "cell_type": "markdown",
   "metadata": {},
   "source": [
    "### Example"
   ]
  },
  {
   "cell_type": "code",
   "execution_count": 8,
   "metadata": {},
   "outputs": [
    {
     "name": "stdout",
     "output_type": "stream",
     "text": [
      "The autoreload extension is already loaded. To reload it, use:\n",
      "  %reload_ext autoreload\n"
     ]
    }
   ],
   "source": [
    "%load_ext autoreload\n",
    "%autoreload 2"
   ]
  },
  {
   "cell_type": "code",
   "execution_count": 10,
   "metadata": {},
   "outputs": [
    {
     "name": "stdout",
     "output_type": "stream",
     "text": [
      "Carriers:\n",
      "['Cellcom']\n",
      "Number of links in map: \n",
      "12\n",
      "/Users/adameshel/Documents/Python_scripts/I_Change/try/TRY_MAP.html\n",
      "Map under the name TRY_MAP.html was generated.\n"
     ]
    }
   ],
   "source": [
    "from draw_cml_map import *\n",
    "\n",
    "name_map = 'TRY_MAP'\n",
    "h = draw_cml_map(out_path='/dir/to/output/',\n",
    "            data_path='/dir/to/data/',\n",
    "            rawdata_dir='rawdata',\n",
    "            metadata_file_name='export.csv',\n",
    "            list_of_link_id_to_drop=['4673-7HZ4','7HZ4-4673'],\n",
    "            list_of_link_id_to_color=['TS01-7330','j220-s220'],\n",
    "            color_of_specific_links = 'red',\n",
    "            name_of_map_file=name_map,\n",
    "            distort_lat_lon=True)"
   ]
  },
  {
   "cell_type": "markdown",
   "metadata": {},
   "source": [
    "### Draw on same map additional CMLs in different colors and add a grid"
   ]
  },
  {
   "cell_type": "code",
   "execution_count": 11,
   "metadata": {},
   "outputs": [
    {
     "name": "stdout",
     "output_type": "stream",
     "text": [
      "Carriers:\n",
      "['Pelephone']\n",
      "Number of links in map: \n",
      "62\n",
      "/Users/adameshel/Documents/Python_scripts/I_Change/try/TRY_MAP.html\n",
      "Map under the name TRY_MAP.html was generated.\n"
     ]
    }
   ],
   "source": [
    "h = draw_cml_map(out_path='/dir/to/output/',\n",
    "            data_path='/dir/to/data/',\n",
    "            metadata_file_name='pelephone jan 2 2020.csv',\n",
    "            handle=h,\n",
    "            area_min_lon=35.0,\n",
    "            area_max_lon=36.0,\n",
    "            area_min_lat=31.5,\n",
    "            area_max_lat=32.1,\n",
    "            color_of_links='blue',\n",
    "            num_of_gridlines=30,\n",
    "            name_of_map_file=name_map)"
   ]
  }
 ],
 "metadata": {
  "kernelspec": {
   "display_name": "Python 3",
   "language": "python",
   "name": "python3"
  },
  "language_info": {
   "codemirror_mode": {
    "name": "ipython",
    "version": 3
   },
   "file_extension": ".py",
   "mimetype": "text/x-python",
   "name": "python",
   "nbconvert_exporter": "python",
   "pygments_lexer": "ipython3",
   "version": "3.7.11"
  }
 },
 "nbformat": 4,
 "nbformat_minor": 4
}
