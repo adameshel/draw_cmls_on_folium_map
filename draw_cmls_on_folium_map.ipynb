{
 "cells": [
  {
   "cell_type": "code",
   "execution_count": null,
   "metadata": {},
   "outputs": [],
   "source": [
    "import pandas as pd\n",
    "import folium\n",
    "import numpy as np\n",
    "import math\n",
    "from pathlib import Path\n",
    "out_path = Path('/Path/To/Out/')\n",
    "data_path = Path('/Path/To/Metadata/')\n",
    "meta_path = data_path.joinpath('MetaDataFile.csv')\n",
    "df_md = pd.read_csv(meta_path)\n",
    "df_md.drop_duplicates(subset='Link ID', inplace=True)\n",
    "df_md.reset_index(inplace=True,drop=True)\n",
    "\n",
    "map_1 = folium.Map(location=[32, 35],\n",
    "                       zoom_start=8,\n",
    "                       tiles='Stamen Terrain')\n",
    "for i,link in df_md.iterrows():\n",
    "    if math.isnan(link['Rx Site Latitude']):\n",
    "        print('No metadata for link ' + str(link['Link ID']))\n",
    "        continue\n",
    "    else:\n",
    "        folium.PolyLine([(link['Rx Site Latitude'], \n",
    "                          link['Rx Site Longitude']),\n",
    "                         (link['Tx Site Latitude'], \n",
    "                          link['Tx Site Longitude'])], \n",
    "                        color=\"purple\", opacity=0.7, popup=str(link['Link ID'])).add_to(map_1)\n",
    "        \n",
    "map_1.save(str(out_path.joinpath('link_map.html')))"
   ]
  }
 ],
 "metadata": {
  "kernelspec": {
   "display_name": "Python 3",
   "language": "python",
   "name": "python3"
  },
  "language_info": {
   "codemirror_mode": {
    "name": "ipython",
    "version": 3
   },
   "file_extension": ".py",
   "mimetype": "text/x-python",
   "name": "python",
   "nbconvert_exporter": "python",
   "pygments_lexer": "ipython3",
   "version": "3.7.11"
  }
 },
 "nbformat": 4,
 "nbformat_minor": 4
}
